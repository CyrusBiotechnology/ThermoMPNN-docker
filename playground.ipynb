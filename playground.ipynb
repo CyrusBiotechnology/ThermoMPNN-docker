{
 "cells": [
  {
   "cell_type": "code",
   "execution_count": 11,
   "metadata": {},
   "outputs": [
    {
     "name": "stdout",
     "output_type": "stream",
     "text": [
      "The autoreload extension is already loaded. To reload it, use:\n",
      "  %reload_ext autoreload\n"
     ]
    }
   ],
   "source": [
    "%load_ext autoreload\n",
    "%autoreload 2"
   ]
  },
  {
   "cell_type": "code",
   "execution_count": 12,
   "metadata": {},
   "outputs": [],
   "source": [
    "import json, time, os, sys, glob\n",
    "import shutil\n",
    "import warnings\n",
    "import numpy as np\n",
    "import pandas as pd\n",
    "import torch\n",
    "from torch import optim\n",
    "from torch.utils.data import DataLoader\n",
    "from torch.utils.data.dataset import random_split, Subset\n",
    "import copy\n",
    "import torch.nn as nn\n",
    "import torch.nn.functional as F\n",
    "import random\n",
    "import os.path\n",
    "import subprocess\n",
    "from tqdm import tqdm\n",
    "from omegaconf import OmegaConf\n",
    "import pytorch_lightning as pl\n",
    "from terrace.batch import DataLoader\n",
    "from typing import Sequence\n",
    "\n",
    "from fireprot_dataset import *\n",
    "from training.model_utils import featurize, loss_smoothed, loss_nll, get_std_opt, ProteinMPNN\n",
    "from training.utils import worker_init_fn, get_pdbs, loader_pdb, build_training_clusters, PDB_dataset, StructureDataset, StructureLoader\n",
    "from protein_mpnn_utils import loss_nll, loss_smoothed, gather_edges, gather_nodes, gather_nodes_t, cat_neighbors_nodes, _scores, _S_to_seq, tied_featurize, parse_PDB\n",
    "from protein_mpnn_utils import StructureDataset, StructureDatasetPDB, ProteinMPNN\n",
    "from kaggle_dataset import KaggleTrainDataset\n",
    "from transfer_model import *\n",
    "from train import *\n",
    "from combo_dataset import *"
   ]
  },
  {
   "cell_type": "code",
   "execution_count": 13,
   "metadata": {},
   "outputs": [],
   "source": [
    "cfg = OmegaConf.load(\"config.yaml\")"
   ]
  },
  {
   "cell_type": "code",
   "execution_count": 14,
   "metadata": {},
   "outputs": [
    {
     "name": "stderr",
     "output_type": "stream",
     "text": [
      "/home/boris/miniconda3/envs/chem/lib/python3.8/site-packages/IPython/core/interactiveshell.py:3377: DtypeWarning: Columns (30,36) have mixed types.Specify dtype option on import or set low_memory=False.\n",
      "  if (await self.run_code(code, result,  async_=asy)):\n"
     ]
    },
    {
     "name": "stdout",
     "output_type": "stream",
     "text": [
      "1GYZ.pdb\n",
      "1MHN.pdb\n",
      "2D1U.pdb\n",
      "7JJK.pdb\n",
      "1CSQ.pdb_F49A\n",
      "2LSS.pdb_G6S\n",
      "2LSS.pdb_F17A\n",
      "1MJC.pdb_L43S\n",
      "1MJC.pdb_G17A\n",
      "1CSQ.pdb_F9S\n",
      "2LXK.pdb_G4A\n",
      "2LXK.pdb_F15S\n",
      "2K5N.pdb\n",
      "2MA4.pdb\n",
      "1JIC.pdb\n",
      "2YSC.pdb\n",
      "v2_2LXE.pdb\n",
      "2JVD.pdb\n",
      "5UOI.pdb\n",
      "2M7O.pdb_I21A\n",
      "2YSB.pdb\n",
      "2LT1.pdb\n",
      "1YG0.pdb\n",
      "6YSE.pdb\n",
      "1IFY.pdb\n",
      "2MC5.pdb\n",
      "1O6X.pdb\n",
      "2LQK.pdb\n",
      "2N88.pdb\n",
      "5VNT.pdb\n",
      "3MYC.pdb\n",
      "2RJV.pdb\n",
      "1YU5.pdb\n",
      "v2R14S|R16S_2L3X.pdb\n",
      "2KFV.pdb\n",
      "2HBB.pdb_pross4\n",
      "2HBB.pdb_pross9\n",
      "2HBB.pdb_pross6\n",
      "2HBB_con\n",
      "2HBB.pdb_pross7\n",
      "2HBB.pdb_K12M\n",
      "2HBB.pdb\n",
      "5KPH.pdb\n",
      "3L1X.pdb\n",
      "2JRO.pdb\n",
      "2LJ3.pdb\n",
      "4HCK.pdb\n",
      "2KGT.pdb\n",
      "6SCW.pdb\n",
      "1Y0M.pdb\n",
      "2KR3.pdb\n",
      "2J6K_con\n",
      "6NMW.pdb\n",
      "1QLY.pdb\n"
     ]
    }
   ],
   "source": [
    "from mega_scale_dataset import MegaScaleDataset\n",
    "dataset = MegaScaleDataset(cfg, \"val\")"
   ]
  },
  {
   "cell_type": "code",
   "execution_count": 17,
   "metadata": {},
   "outputs": [
    {
     "data": {
      "text/plain": [
       "<mega_scale_dataset.MegaScaleDataset at 0x7f139ebddf10>"
      ]
     },
     "execution_count": 17,
     "metadata": {},
     "output_type": "execute_result"
    }
   ],
   "source": [
    "len(dataset)"
   ]
  }
 ],
 "metadata": {
  "kernelspec": {
   "display_name": "Python 3.8.5 ('chem')",
   "language": "python",
   "name": "python3"
  },
  "language_info": {
   "codemirror_mode": {
    "name": "ipython",
    "version": 3
   },
   "file_extension": ".py",
   "mimetype": "text/x-python",
   "name": "python",
   "nbconvert_exporter": "python",
   "pygments_lexer": "ipython3",
   "version": "3.8.5"
  },
  "orig_nbformat": 4,
  "vscode": {
   "interpreter": {
    "hash": "793ba03f2bf20f578292df94672cc007484e9fb1e9f785a224339478cf2774f8"
   }
  }
 },
 "nbformat": 4,
 "nbformat_minor": 2
}
