{
 "cells": [
  {
   "cell_type": "code",
   "execution_count": 1,
   "metadata": {},
   "outputs": [],
   "source": [
    "%load_ext autoreload\n",
    "%autoreload 2"
   ]
  },
  {
   "cell_type": "code",
   "execution_count": 2,
   "metadata": {},
   "outputs": [],
   "source": [
    "import json, time, os, sys, glob\n",
    "import shutil\n",
    "import warnings\n",
    "import numpy as np\n",
    "import pandas as pd\n",
    "import torch\n",
    "from torch import optim\n",
    "from torch.utils.data import DataLoader\n",
    "from torch.utils.data.dataset import random_split, Subset\n",
    "import copy\n",
    "import torch.nn as nn\n",
    "import torch.nn.functional as F\n",
    "import random\n",
    "import os.path\n",
    "import subprocess\n",
    "from tqdm import tqdm\n",
    "from omegaconf import OmegaConf\n",
    "import pytorch_lightning as pl\n",
    "from terrace.batch import DataLoader\n",
    "from typing import Sequence\n",
    "\n",
    "from fireprot_dataset import *\n",
    "from training.model_utils import featurize, loss_smoothed, loss_nll, get_std_opt, ProteinMPNN\n",
    "from training.utils import worker_init_fn, get_pdbs, loader_pdb, build_training_clusters, PDB_dataset, StructureDataset, StructureLoader\n",
    "from protein_mpnn_utils import loss_nll, loss_smoothed, gather_edges, gather_nodes, gather_nodes_t, cat_neighbors_nodes, _scores, _S_to_seq, tied_featurize, parse_PDB\n",
    "from protein_mpnn_utils import StructureDataset, StructureDatasetPDB, ProteinMPNN\n",
    "from kaggle_dataset import KaggleTrainDataset\n",
    "from transfer_model import *\n",
    "from train import *\n",
    "from combo_dataset import *"
   ]
  },
  {
   "cell_type": "code",
   "execution_count": 3,
   "metadata": {},
   "outputs": [],
   "source": [
    "cfg = OmegaConf.load(\"config.yaml\")\n",
    "cfg = OmegaConf.merge(cfg, OmegaConf.load(\"local.yaml\"))"
   ]
  },
  {
   "cell_type": "code",
   "execution_count": 5,
   "metadata": {},
   "outputs": [
    {
     "name": "stderr",
     "output_type": "stream",
     "text": [
      "/home/boris/miniconda3/envs/chem/lib/python3.8/site-packages/IPython/core/interactiveshell.py:3377: DtypeWarning: Columns (30,36) have mixed types.Specify dtype option on import or set low_memory=False.\n",
      "  if (await self.run_code(code, result,  async_=asy)):\n"
     ]
    }
   ],
   "source": [
    "d = MegaScaleDataset(cfg, \"val\")"
   ]
  },
  {
   "cell_type": "code",
   "execution_count": 8,
   "metadata": {},
   "outputs": [
    {
     "data": {
      "text/plain": [
       "0         4.091166\n",
       "1         4.093463\n",
       "2         3.938306\n",
       "3         4.051388\n",
       "4         3.965257\n",
       "            ...   \n",
       "851547   -3.148557\n",
       "851548   -3.138319\n",
       "851549   -2.567302\n",
       "851550   -2.129308\n",
       "851551   -2.245312\n",
       "Name: deltaG, Length: 851552, dtype: float64"
      ]
     },
     "execution_count": 8,
     "metadata": {},
     "output_type": "execute_result"
    }
   ],
   "source": [
    "d.df.deltaG"
   ]
  }
 ],
 "metadata": {
  "kernelspec": {
   "display_name": "Python 3.8.5 ('chem')",
   "language": "python",
   "name": "python3"
  },
  "language_info": {
   "codemirror_mode": {
    "name": "ipython",
    "version": 3
   },
   "file_extension": ".py",
   "mimetype": "text/x-python",
   "name": "python",
   "nbconvert_exporter": "python",
   "pygments_lexer": "ipython3",
   "version": "3.8.5"
  },
  "orig_nbformat": 4,
  "vscode": {
   "interpreter": {
    "hash": "793ba03f2bf20f578292df94672cc007484e9fb1e9f785a224339478cf2774f8"
   }
  }
 },
 "nbformat": 4,
 "nbformat_minor": 2
}
